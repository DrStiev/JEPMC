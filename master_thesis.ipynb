{
 "cells": [
  {
   "cell_type": "code",
   "execution_count": 1,
   "metadata": {},
   "outputs": [
    {
     "name": "stderr",
     "output_type": "stream",
     "text": [
      "\u001b[32m\u001b[1m  Activating\u001b[22m\u001b[39m project at `d:\\GitHub\\julia-epidemiology-models`\n"
     ]
    }
   ],
   "source": [
    "using Pkg\n",
    "\n",
    "Pkg.activate(\".\")"
   ]
  },
  {
   "cell_type": "code",
   "execution_count": null,
   "metadata": {},
   "outputs": [],
   "source": [
    "# Pkg.update()\n",
    "# Pkg.resolve()\n",
    "# Pkg.precompile()\n",
    "# Pkg.instantiate()"
   ]
  },
  {
   "attachments": {},
   "cell_type": "markdown",
   "metadata": {},
   "source": [
    "very slow, I do not think it's good to use "
   ]
  },
  {
   "cell_type": "code",
   "execution_count": 5,
   "metadata": {},
   "outputs": [
    {
     "name": "stderr",
     "output_type": "stream",
     "text": [
      "WARNING: using Distributions.params in module Main conflicts with an existing identifier.\n",
      "WARNING: replacing module model_params.\n"
     ]
    },
    {
     "data": {
      "text/plain": [
       "Main.pplot"
      ]
     },
     "metadata": {},
     "output_type": "display_data"
    }
   ],
   "source": [
    "using Agents, DataFrames, Plots, Distributions, Random\n",
    "using Statistics: mean\n",
    "\n",
    "include(\"./src/params.jl\")\n",
    "include(\"./src/graph.jl\")\n",
    "include(\"./src/controller.jl\")\n",
    "include(\"./src/uode.jl\")\n",
    "include(\"./src/pplot.jl\")"
   ]
  },
  {
   "attachments": {},
   "cell_type": "markdown",
   "metadata": {},
   "source": [
    "test to obtain the dataset, downloaded from: https://covid.ourworldindata.org/data/owid-covid-data.csv"
   ]
  },
  {
   "cell_type": "code",
   "execution_count": 6,
   "metadata": {},
   "outputs": [],
   "source": [
    "model_params.download_dataset(\n",
    "    \"data/OWID/\",\n",
    "    \"https://covid.ourworldindata.org/data/owid-covid-data.csv\",\n",
    ")\n",
    "df = model_params.read_local_dataset(\"data/OWID/owid-covid-data.csv\")\n",
    "date, day_info, total_count, R₀ = model_params.dataset_from_location(df, \"ITA\")"
   ]
  },
  {
   "attachments": {},
   "cell_type": "markdown",
   "metadata": {},
   "source": [
    "test to obtain the parameters and save them in a custom location"
   ]
  },
  {
   "cell_type": "code",
   "execution_count": null,
   "metadata": {},
   "outputs": [],
   "source": [
    "abm_parameters = model_params.get_abm_parameters(20, 0.01, 3300)\n",
    "model_params.save_parameters(abm_parameters, \"data/parameters/\", \"abm_parameters\")\n",
    "params = model_params.load_parameters(\"data/parameters/abm_parameters.jld2\")"
   ]
  },
  {
   "attachments": {},
   "cell_type": "markdown",
   "metadata": {},
   "source": [
    "test to control if the plot is created and saved correctly"
   ]
  },
  {
   "cell_type": "code",
   "execution_count": null,
   "metadata": {},
   "outputs": [],
   "source": [
    "p = plot(\n",
    "    plot(\n",
    "        Array(day_info),\n",
    "        labels=[\"Infected\" \"Tests\" \"Vaccinations\" \"Deaths\"],\n",
    "        title=\"Detected Dynamics\",\n",
    "    ),\n",
    "    plot(\n",
    "        Array(total_count),\n",
    "        labels=[\"Susceptible\" \"Infected\" \"Deaths\" \"Tests\"],\n",
    "        title=\"Overall Dynamics\",\n",
    "    ),\n",
    "    plot(Array(R₀), labels=\"R₀\", title=\"Reproduction Rate\"),\n",
    ")"
   ]
  },
  {
   "cell_type": "code",
   "execution_count": null,
   "metadata": {},
   "outputs": [],
   "source": [
    "pplot.save_plot(p, \"img/data_plot/\", \"cumulative_plot\", \"pdf\")"
   ]
  },
  {
   "cell_type": "code",
   "execution_count": null,
   "metadata": {},
   "outputs": [],
   "source": [
    "format(\".\")"
   ]
  }
 ],
 "metadata": {
  "kernelspec": {
   "display_name": "Julia 1.8.5",
   "language": "julia",
   "name": "julia-1.8"
  },
  "language_info": {
   "file_extension": ".jl",
   "mimetype": "application/julia",
   "name": "julia",
   "version": "1.8.5"
  },
  "orig_nbformat": 4
 },
 "nbformat": 4,
 "nbformat_minor": 2
}
